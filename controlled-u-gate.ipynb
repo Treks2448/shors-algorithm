{
 "cells": [
  {
   "cell_type": "code",
   "execution_count": 1,
   "id": "859e66e9",
   "metadata": {},
   "outputs": [
    {
     "name": "stdout",
     "output_type": "stream",
     "text": [
      "done\n"
     ]
    }
   ],
   "source": [
    "%run modulo-multiplier.ipynb"
   ]
  },
  {
   "cell_type": "code",
   "execution_count": 7,
   "id": "14d046f0",
   "metadata": {},
   "outputs": [
    {
     "data": {
      "text/plain": [
       "(7, 0, 1)"
      ]
     },
     "execution_count": 7,
     "metadata": {},
     "output_type": "execute_result"
    }
   ],
   "source": [
    "# returns gcd(a,N) = ax + by as (a, x, y)\n",
    "# returns (N, 0, 1) if N divides a\n",
    "# a must be larger than N\n",
    "def linear_comb_gcd(a, N):\n",
    "    assert a > N\n",
    "    euc_rows = [\n",
    "        (a, 1, 0),\n",
    "        (N, 0, 1)\n",
    "    ]\n",
    "    # apply extended Euclidean algorithm\n",
    "    i = 1\n",
    "    next_row = (N, 0, 1)\n",
    "    while next_row[0] != 0:\n",
    "        r = euc_rows[i-1][0] % euc_rows[i][0] # remainder of division\n",
    "        c = (euc_rows[i-1][0] - r) / euc_rows[i][0] # coefficient to multiply row by\n",
    "        next_row = (\n",
    "            euc_rows[i-1][0] - c * euc_rows[i][0],\n",
    "            euc_rows[i-1][1] - c * euc_rows[i][1],\n",
    "            euc_rows[i-1][2] - c * euc_rows[i][2]\n",
    "        )\n",
    "        euc_rows += [next_row]\n",
    "        i += 1\n",
    "    return euc_rows[i-1]\n",
    "\n",
    "linear_comb_gcd(1337, 7)"
   ]
  },
  {
   "cell_type": "markdown",
   "id": "b7f34aea",
   "metadata": {},
   "source": []
  }
 ],
 "metadata": {
  "kernelspec": {
   "display_name": "Python 3 (ipykernel)",
   "language": "python",
   "name": "python3"
  },
  "language_info": {
   "codemirror_mode": {
    "name": "ipython",
    "version": 3
   },
   "file_extension": ".py",
   "mimetype": "text/x-python",
   "name": "python",
   "nbconvert_exporter": "python",
   "pygments_lexer": "ipython3",
   "version": "3.9.7"
  }
 },
 "nbformat": 4,
 "nbformat_minor": 5
}
