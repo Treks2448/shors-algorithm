{
 "cells": [
  {
   "cell_type": "code",
   "execution_count": 225,
   "id": "71a6eee1",
   "metadata": {},
   "outputs": [],
   "source": [
    "from qiskit import QuantumCircuit, ClassicalRegister, QuantumRegister\n",
    "from qiskit.circuit.library import QFT, PhaseGate, HGate\n",
    "from qiskit.quantum_info import Operator\n",
    "from math import log, ceil, floor, pi\n",
    "# Computes (a+b) in fourier space given that qft has been \n",
    "# applied to the n bits of b before entering the circuit\n",
    "def fourier_add_a(a, n_qubits, msb_top=True):\n",
    "    n = floor(log(a, 2)) + 1\n",
    "    f_add_circ = QuantumCircuit(n_qubits)\n",
    "    # Create and add classical-bit-wise controlled operators    \n",
    "    for j in range(n_qubits-1, -1, -1):\n",
    "        cp_a = a\n",
    "        phase = 0\n",
    "        for i in range(1, n_qubits - j + 1):\n",
    "            if cp_a % 2 == 1:\n",
    "                #add a phase shift gate index i\n",
    "                phase += 2 * pi / (2**(n_qubits - j - i + 1))\n",
    "            cp_a = cp_a >> 1\n",
    "        phase_gate = PhaseGate(phase)\n",
    "        if msb_top:\n",
    "            f_add_circ.append(phase_gate, [j]) \n",
    "        else:\n",
    "            f_add_circ.append(phase_gate, [n_qubits - j - 1])\n",
    "    return f_add_circ"
   ]
  },
  {
   "cell_type": "code",
   "execution_count": 226,
   "id": "023fc0dd",
   "metadata": {},
   "outputs": [],
   "source": [
    "# Initializes binary representation of x using n qubits, highest\n",
    "# order qubit at the top.\n",
    "def init_x_circuit(x, n_qubits, msb_top=True):\n",
    "    x_circuit = QuantumCircuit(n_qubits)\n",
    "    for i in range(n_qubits-1, -1, -1):\n",
    "        bit = x % 2\n",
    "        if bit == 1:\n",
    "            if msb_top:\n",
    "                x_circuit.x(i) \n",
    "            else:\n",
    "                x_circuit.x(n_qubits - i - 1)\n",
    "        x = x >> 1\n",
    "    return x_circuit\n",
    "        "
   ]
  },
  {
   "cell_type": "code",
   "execution_count": 227,
   "id": "53184983",
   "metadata": {},
   "outputs": [],
   "source": [
    "def swap_circuit(n_qubits):\n",
    "    swap_circuit = QuantumCircuit(n_qubits)\n",
    "    for i in range(0, floor(n_qubits/2)):\n",
    "        swap_circuit.swap(i, n_qubits - i - 1)\n",
    "    return swap_circuit"
   ]
  },
  {
   "cell_type": "code",
   "execution_count": 228,
   "id": "4ec2bbb9",
   "metadata": {},
   "outputs": [],
   "source": [
    "def msb_top_qft(n_qubits):\n",
    "    qft = QuantumCircuit(n_qubits)\n",
    "    for i in range(n_qubits):\n",
    "        qft.h(i)\n",
    "        for j in range(n_qubits - i, 1, -1):\n",
    "            phase = 2 * pi / (2**j)\n",
    "            phase_gate = PhaseGate(phase)\n",
    "            ctrl_phase_gate = phase_gate.control(1)\n",
    "            qft.append(ctrl_phase_gate, [n_qubits - j + 1, i])\n",
    "    return qft"
   ]
  },
  {
   "cell_type": "code",
   "execution_count": 229,
   "id": "9a36d6a0",
   "metadata": {},
   "outputs": [
    {
     "data": {
      "image/png": "[encoded data removed]",
      "text/plain": [
       "<PIL.Image.Image image mode=RGB size=1207x151 at 0x1F01C84CC10>"
      ]
     },
     "execution_count": 229,
     "metadata": {},
     "output_type": "execute_result"
    }
   ],
   "source": [
    "msb_top_qft(5).draw(\"latex\")"
   ]
  },
  {
   "cell_type": "code",
   "execution_count": 233,
   "id": "0cc80fe8",
   "metadata": {},
   "outputs": [],
   "source": [
    "def qft_adder(a, b, keep_carry=True, msb_top=True):\n",
    "    # max qubits for addition\n",
    "    n = floor(log(a, 2))+1 if (a>=b) else floor(log(b, 2))+1\n",
    "    if keep_carry:\n",
    "        n += 1\n",
    "    qft_adder_circ = QuantumCircuit(n)\n",
    "    qft_adder_circ.append(init_x_circuit(b, n, msb_top).to_gate(label=f\"INIT({b})\"), range(n))\n",
    "    if msb_top:\n",
    "        qft_adder_circ.append(msb_top_qft(n).to_gate(label=\"QFT\"), range(n))\n",
    "    else:\n",
    "        qft_adder_circ.append(QFT(n, do_swaps=False), range(n))\n",
    "    qft_adder_circ.append(fourier_add_a(a, n, msb_top).to_gate(label=f\"\\Phi ADD({a})\"), range(n))\n",
    "    if msb_top:\n",
    "        qft_adder_circ.append(msb_top_qft(n).inverse().to_gate(label=\"IQFT\"), range(n))\n",
    "    else:\n",
    "        qft_adder_circ.append(QFT(n, inverse=True, do_swaps=False), range(n))\n",
    "    return qft_adder_circ"
   ]
  },
  {
   "cell_type": "code",
   "execution_count": 234,
   "id": "6f974740",
   "metadata": {},
   "outputs": [
    {
     "data": {
      "image/png": "[encoded data removed]",
      "text/plain": [
       "<PIL.Image.Image image mode=RGB size=530x263 at 0x1F01A06EAF0>"
      ]
     },
     "execution_count": 234,
     "metadata": {},
     "output_type": "execute_result"
    }
   ],
   "source": [
    "qft_adder(32,31, msb_top=False).draw(\"latex\")"
   ]
  },
  {
   "cell_type": "code",
   "execution_count": 241,
   "id": "49984f3c",
   "metadata": {},
   "outputs": [
    {
     "data": {
      "text/plain": [
       "{'111101': 10000}"
      ]
     },
     "execution_count": 241,
     "metadata": {},
     "output_type": "execute_result"
    }
   ],
   "source": [
    "from qiskit.providers.aer import QasmSimulator\n",
    "from qiskit import transpile\n",
    "\n",
    "a = 31\n",
    "b = 30\n",
    "n = floor(log(a, 2))+2 if (a>=b) else floor(log(b, 2))+2\n",
    "msb_top = False # Order qubits such that most significant is on top\n",
    "\n",
    "qft_adder_example = QuantumCircuit(n,n)\n",
    "qft_adder_example.append(qft_adder(a, b, msb_top=msb_top,), range(n))\n",
    "if msb_top:\n",
    "    qft_adder_example.append(swap_circuit(n).to_gate(label=\"SWAP\"), range(n))\n",
    "qft_adder_example.measure(range(n), range(n))\n",
    "\n",
    "\n",
    "\"\"\" Simulation \"\"\"\n",
    "# Create a simulator\n",
    "simulator = QasmSimulator()\n",
    "# Compile the circuit for the simulator\n",
    "compiled_circuit = transpile(qft_adder_example, simulator)\n",
    "# Simulate the circuit\n",
    "simulation = simulator.run(compiled_circuit, shots=10000)\n",
    "# Get the simulation results\n",
    "simulation_result = simulation.result()\n",
    "counts = simulation_result.get_counts(compiled_circuit)\n",
    "counts"
   ]
  },
  {
   "cell_type": "code",
   "execution_count": 188,
   "id": "cf7bdfa6",
   "metadata": {},
   "outputs": [],
   "source": [
    "def modulo_adder(a, b, N):\n",
    "    mod_adder_circ = QuantumCircuit()\n",
    "    "
   ]
  }
 ],
 "metadata": {
  "kernelspec": {
   "display_name": "Python 3 (ipykernel)",
   "language": "python",
   "name": "python3"
  },
  "language_info": {
   "codemirror_mode": {
    "name": "ipython",
    "version": 3
   },
   "file_extension": ".py",
   "mimetype": "text/x-python",
   "name": "python",
   "nbconvert_exporter": "python",
   "pygments_lexer": "ipython3",
   "version": "3.9.7"
  }
 },
 "nbformat": 4,
 "nbformat_minor": 5
}
