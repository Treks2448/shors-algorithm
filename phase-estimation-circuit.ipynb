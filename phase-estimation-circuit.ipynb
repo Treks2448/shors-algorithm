{
 "cells": [
  {
   "cell_type": "code",
   "execution_count": 1,
   "id": "2168b538",
   "metadata": {},
   "outputs": [],
   "source": [
    "from qiskit.circuit.library.standard_gates import UGate\n",
    "import random as rnd\n",
    "\n",
    "# Returns a circuit representation of a random unitary matrix\n",
    "def random_v_qubit_unitary(v):\n",
    "    rand_u = QuantumCircuit(v)\n",
    "    for i in range(v):\n",
    "        theta = rnd.random() * 2 * 3.14\n",
    "        phi = rnd.random() * 2 * 3.14\n",
    "        lamb = rnd.random() * 2 * 3.14\n",
    "        name = 'RU'\n",
    "        random_gate = UGate(theta, phi, lamb)\n",
    "        rand_u.append(random_gate, [i])\n",
    "    return rand_u"
   ]
  },
  {
   "cell_type": "code",
   "execution_count": 2,
   "id": "6937809c",
   "metadata": {},
   "outputs": [],
   "source": [
    "# Returns decimal representation of bit string (fraction)\n",
    "def bin_to_dec(str):\n",
    "    value = 0\n",
    "    for i in range(len(str)):\n",
    "        value += float(str[i]) * 2**(-1-i)\n",
    "    return value"
   ]
  },
  {
   "cell_type": "code",
   "execution_count": 3,
   "id": "57d8b484",
   "metadata": {},
   "outputs": [],
   "source": [
    "from qiskit import QuantumCircuit, ClassicalRegister, QuantumRegister\n",
    "from qiskit.circuit.library import QFT\n",
    "from qiskit.quantum_info import Operator\n",
    "\n",
    "def phase_estimation_circuit(t, v, U):\n",
    "    \"\"\" Circuit Initialisation\"\"\"\n",
    "    # Create a new circuit for phase estimation with t + v qubits.\n",
    "    # We will measure the precision qubits into a classical register.\n",
    "    # We therefore need t classical bits (denoted by c in the diagram).\n",
    "    phase_estimation_circuit = QuantumCircuit(t+v, t)\n",
    "\n",
    "    \"\"\" Stage 1: Preparation of State for Inverse QFT\"\"\"\n",
    "    # Apply Hadamard transform to first t qubits\n",
    "    phase_estimation_circuit.h(range(t))\n",
    "\n",
    "    # Apply Controlled-U gates for each qubit in t\n",
    "    for i in range(t-1, -1, -1): # t-1 to 0\n",
    "        for k in range(2**i): # 0 to 2^i\n",
    "            \"\"\" Create an array of indices indicating which 'wires' to connect\n",
    "            the unitary to in the circuit \"\"\"\n",
    "            qubits = [j for j in range(t-1, t+v)]\n",
    "            qubits[0] = t-i-1\n",
    "            # Create a single qubit controlled-U gate from the unitary.\n",
    "            cru = U.control()\n",
    "            # Apply the controlled-U gate to the desired wires\n",
    "            phase_estimation_circuit.append(cru, qubits)\n",
    "\n",
    "    \"\"\" Stage 2: Applincation of Inverse QFT\"\"\"  \n",
    "    # Apply inverse quantum Fourier transform\n",
    "    phase_estimation_circuit.barrier(range(t+v))\n",
    "    inverse_qft = QFT(t, inverse=True)\n",
    "    phase_estimation_circuit.append(inverse_qft.to_gate(), range(t))\n",
    "\n",
    "    \"\"\" Stage 3: Measurement \"\"\"\n",
    "    # Measure each of t qubits\n",
    "    phase_estimation_circuit.barrier(range(t+v))\n",
    "    phase_estimation_circuit.measure(range(t), range(t))\n",
    "    \n",
    "    return phase_estimation_circuit"
   ]
  },
  {
   "cell_type": "code",
   "execution_count": 4,
   "id": "1687c7de",
   "metadata": {},
   "outputs": [],
   "source": [
    "import numpy as np\n",
    "from qiskit.providers.aer import QasmSimulator\n",
    "from qiskit import transpile\n",
    "\n",
    "\"\"\" Tunable Parameters\"\"\"\n",
    "\"\"\" Guidelines: \n",
    "- v increases matrix dimension (dimension = 2^v)\n",
    "- t increases accuracy\n",
    "- Keep t > v, t >= v + 2 is recommended\n",
    "- Simulation runtime is exponential in t and v. Simulations of t+v > 20 take minutes to run\n",
    "\"\"\"\n",
    "t = 3 # number of precision qubits\n",
    "v = 2 # number of eigenstate qubits\n",
    "simulation_count = 100 * 2**t # Number of times to repeat the experiment\n",
    "\n",
    "# Create a random unitary implemente as a circuit\n",
    "random_unitary = random_v_qubit_unitary(v)\n",
    "random_unitary = QuantumCircuit(2)\n",
    "random_unitary.x(0)\n",
    "random_unitary.z(1)\n",
    "# Build a circuit to perform quantum phase estimation on the given unitary\n",
    "QPE_circuit = phase_estimation_circuit(t, v, random_unitary)\n",
    "\n",
    "\"\"\" Simulation \"\"\"\n",
    "# Create a simulator\n",
    "simulator = QasmSimulator()\n",
    "# Compile the circuit for the simulator\n",
    "compiled_circuit = transpile(QPE_circuit, simulator)\n",
    "# Simulate the circuit\n",
    "simulation = simulator.run(compiled_circuit, shots=simulation_count)\n",
    "# Get the simulation results\n",
    "simulation_result = simulation.result()\n",
    "counts = simulation_result.get_counts(compiled_circuit)\n",
    "\n",
    "\"\"\" Processing of Simulation Results \"\"\"\n",
    "# Sort results from highest to lowest\n",
    "results_sorted = sorted(counts, key = lambda x: abs(counts[x])**2, reverse=True)\n",
    "# Get most common results\n",
    "if v <= t:\n",
    "    most_common_results = results_sorted[:2**v]\n",
    "else:\n",
    "    most_common_results = results_sorted[:2**t]    \n",
    "# Get eigenvalues in a + bi form.\n",
    "eigenvalue_estimates = [np.exp(2j * np.pi * bin_to_dec(k)) for i, k in enumerate(most_common_results)]\n",
    "\n",
    "\"\"\" Obtaining Eigenvalues Using Classical Algorithm \"\"\"\n",
    "# Get a numpy matrix representation of the unitary gate\n",
    "U = np.array(Operator(random_unitary).data)\n",
    "# Calculate the eigenvalues classically\n",
    "true_eigenvalues, a = np.linalg.eig(U)"
   ]
  },
  {
   "cell_type": "code",
   "execution_count": 5,
   "id": "5e365f50",
   "metadata": {},
   "outputs": [
    {
     "data": {
      "text/plain": [
       "[4.743186923619966e-09,\n",
       " 4.743186923619966e-09,\n",
       " 0.4999999976284065,\n",
       " 0.4999999976284065]"
      ]
     },
     "execution_count": 5,
     "metadata": {},
     "output_type": "execute_result"
    }
   ],
   "source": [
    "phases = sorted([np.arccos(true_eigenvalues[i].real) / (2 * np.pi) for i in range(len(true_eigenvalues))])\n",
    "phases"
   ]
  },
  {
   "cell_type": "code",
   "execution_count": 6,
   "id": "bab7e249",
   "metadata": {},
   "outputs": [
    {
     "data": {
      "text/plain": [
       "[0.0, 0.125, 0.12500000000000006, 0.37500000000000006]"
      ]
     },
     "execution_count": 6,
     "metadata": {},
     "output_type": "execute_result"
    }
   ],
   "source": [
    "phases_est = sorted([np.arccos(eigenvalue_estimates[i].real) / (2 * np.pi) for i in range(len(eigenvalue_estimates))])\n",
    "phases_est"
   ]
  },
  {
   "cell_type": "code",
   "execution_count": null,
   "id": "f0861dfa",
   "metadata": {},
   "outputs": [],
   "source": []
  }
 ],
 "metadata": {
  "kernelspec": {
   "display_name": "Python 3 (ipykernel)",
   "language": "python",
   "name": "python3"
  },
  "language_info": {
   "codemirror_mode": {
    "name": "ipython",
    "version": 3
   },
   "file_extension": ".py",
   "mimetype": "text/x-python",
   "name": "python",
   "nbconvert_exporter": "python",
   "pygments_lexer": "ipython3",
   "version": "3.9.7"
  }
 },
 "nbformat": 4,
 "nbformat_minor": 5
}
