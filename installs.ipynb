{
 "cells": [
  {
   "cell_type": "code",
   "execution_count": 1,
   "id": "cf12cdd2",
   "metadata": {},
   "outputs": [
    {
     "name": "stdout",
     "output_type": "stream",
     "text": [
      "Collecting qiskitNote: you may need to restart the kernel to use updated packages.\n",
      "\n",
      "  Downloading qiskit-0.34.1.tar.gz (13 kB)\n",
      "Collecting qiskit-terra==0.19.1\n",
      "  Downloading qiskit_terra-0.19.1-cp39-cp39-win_amd64.whl (5.6 MB)\n",
      "Collecting qiskit-aer==0.10.2\n",
      "  Downloading qiskit_aer-0.10.2-cp39-cp39-win_amd64.whl (24.2 MB)\n",
      "Collecting qiskit-ibmq-provider==0.18.3\n",
      "  Downloading qiskit_ibmq_provider-0.18.3-py3-none-any.whl (238 kB)\n",
      "Collecting qiskit-ignis==0.7.0\n",
      "  Downloading qiskit_ignis-0.7.0-py3-none-any.whl (200 kB)\n",
      "Requirement already satisfied: numpy>=1.16.3 in c:\\users\\igorg\\anaconda3\\envs\\qcomp\\lib\\site-packages (from qiskit-aer==0.10.2->qiskit) (1.20.3)\n",
      "Requirement already satisfied: scipy>=1.0 in c:\\users\\igorg\\anaconda3\\envs\\qcomp\\lib\\site-packages (from qiskit-aer==0.10.2->qiskit) (1.7.3)\n",
      "Collecting websocket-client>=1.0.1\n",
      "  Downloading websocket_client-1.2.3-py3-none-any.whl (53 kB)\n",
      "Requirement already satisfied: python-dateutil>=2.8.0 in c:\\users\\igorg\\anaconda3\\envs\\qcomp\\lib\\site-packages (from qiskit-ibmq-provider==0.18.3->qiskit) (2.8.2)\n",
      "Collecting requests-ntlm>=1.1.0\n",
      "  Using cached requests_ntlm-1.1.0-py2.py3-none-any.whl (5.7 kB)\n",
      "Requirement already satisfied: urllib3>=1.21.1 in c:\\users\\igorg\\anaconda3\\envs\\qcomp\\lib\\site-packages (from qiskit-ibmq-provider==0.18.3->qiskit) (1.26.8)\n",
      "Requirement already satisfied: requests>=2.19 in c:\\users\\igorg\\anaconda3\\envs\\qcomp\\lib\\site-packages (from qiskit-ibmq-provider==0.18.3->qiskit) (2.27.1)\n",
      "Requirement already satisfied: setuptools>=40.1.0 in c:\\users\\igorg\\anaconda3\\envs\\qcomp\\lib\\site-packages (from qiskit-ignis==0.7.0->qiskit) (58.0.4)\n",
      "Collecting retworkx>=0.8.0\n",
      "  Downloading retworkx-0.11.0-cp39-cp39-win_amd64.whl (1.2 MB)\n",
      "Collecting dill>=0.3\n",
      "  Using cached dill-0.3.4-py2.py3-none-any.whl (86 kB)\n",
      "Requirement already satisfied: psutil>=5 in c:\\users\\igorg\\anaconda3\\envs\\qcomp\\lib\\site-packages (from qiskit-terra==0.19.1->qiskit) (5.8.0)\n",
      "Collecting python-constraint>=1.4\n",
      "  Using cached python-constraint-1.4.0.tar.bz2 (18 kB)\n",
      "Collecting stevedore>=3.0.0\n",
      "  Downloading stevedore-3.5.0-py3-none-any.whl (49 kB)\n",
      "Requirement already satisfied: ply>=3.10 in c:\\users\\igorg\\anaconda3\\envs\\qcomp\\lib\\site-packages (from qiskit-terra==0.19.1->qiskit) (3.11)\n",
      "Collecting tweedledum<2.0,>=1.1\n",
      "  Using cached tweedledum-1.1.1-cp39-cp39-win_amd64.whl (1.1 MB)\n",
      "Requirement already satisfied: sympy>=1.3 in c:\\users\\igorg\\anaconda3\\envs\\qcomp\\lib\\site-packages (from qiskit-terra==0.19.1->qiskit) (1.9)\n",
      "Requirement already satisfied: six>=1.5 in c:\\users\\igorg\\anaconda3\\envs\\qcomp\\lib\\site-packages (from python-dateutil>=2.8.0->qiskit-ibmq-provider==0.18.3->qiskit) (1.16.0)\n",
      "Requirement already satisfied: idna<4,>=2.5 in c:\\users\\igorg\\anaconda3\\envs\\qcomp\\lib\\site-packages (from requests>=2.19->qiskit-ibmq-provider==0.18.3->qiskit) (3.3)\n",
      "Requirement already satisfied: charset-normalizer~=2.0.0 in c:\\users\\igorg\\anaconda3\\envs\\qcomp\\lib\\site-packages (from requests>=2.19->qiskit-ibmq-provider==0.18.3->qiskit) (2.0.4)\n",
      "Requirement already satisfied: certifi>=2017.4.17 in c:\\users\\igorg\\anaconda3\\envs\\qcomp\\lib\\site-packages (from requests>=2.19->qiskit-ibmq-provider==0.18.3->qiskit) (2021.10.8)\n",
      "Collecting ntlm-auth>=1.0.2\n",
      "  Using cached ntlm_auth-1.5.0-py2.py3-none-any.whl (29 kB)\n",
      "Requirement already satisfied: cryptography>=1.3 in c:\\users\\igorg\\anaconda3\\envs\\qcomp\\lib\\site-packages (from requests-ntlm>=1.1.0->qiskit-ibmq-provider==0.18.3->qiskit) (36.0.0)\n",
      "Requirement already satisfied: cffi>=1.12 in c:\\users\\igorg\\anaconda3\\envs\\qcomp\\lib\\site-packages (from cryptography>=1.3->requests-ntlm>=1.1.0->qiskit-ibmq-provider==0.18.3->qiskit) (1.15.0)\n",
      "Requirement already satisfied: pycparser in c:\\users\\igorg\\anaconda3\\envs\\qcomp\\lib\\site-packages (from cffi>=1.12->cryptography>=1.3->requests-ntlm>=1.1.0->qiskit-ibmq-provider==0.18.3->qiskit) (2.21)\n",
      "Collecting pbr!=2.1.0,>=2.0.0\n",
      "  Downloading pbr-5.8.1-py2.py3-none-any.whl (113 kB)\n",
      "Requirement already satisfied: mpmath>=0.19 in c:\\users\\igorg\\anaconda3\\envs\\qcomp\\lib\\site-packages (from sympy>=1.3->qiskit-terra==0.19.1->qiskit) (1.2.1)\n",
      "Building wheels for collected packages: qiskit, python-constraint\n",
      "  Building wheel for qiskit (setup.py): started\n",
      "  Building wheel for qiskit (setup.py): finished with status 'done'\n",
      "  Created wheel for qiskit: filename=qiskit-0.34.1-py3-none-any.whl size=11771 sha256=5779bf970999c0a71a8bca8868cb4d3ffc44a6bcc75bf40d79580e56e7a89e96\n",
      "  Stored in directory: c:\\users\\igorg\\appdata\\local\\pip\\cache\\wheels\\38\\52\\9c\\0bb4d128ca7d42e9ebee9d3deebb4e617d60b73cd4f802ee4c\n",
      "  Building wheel for python-constraint (setup.py): started\n",
      "  Building wheel for python-constraint (setup.py): finished with status 'done'\n",
      "  Created wheel for python-constraint: filename=python_constraint-1.4.0-py2.py3-none-any.whl size=24081 sha256=b2871bcce77bff05878ba824d6c632359b274ed61cd6a6f0b988c72fbfd656bb\n",
      "  Stored in directory: c:\\users\\igorg\\appdata\\local\\pip\\cache\\wheels\\51\\36\\1f\\c2ccb8dc4eba38c5215636d4ae2c480b32069cab0376bcc1a4\n",
      "Successfully built qiskit python-constraint\n",
      "Installing collected packages: pbr, tweedledum, stevedore, retworkx, python-constraint, ntlm-auth, dill, websocket-client, requests-ntlm, qiskit-terra, qiskit-ignis, qiskit-ibmq-provider, qiskit-aer, qiskit\n",
      "Successfully installed dill-0.3.4 ntlm-auth-1.5.0 pbr-5.8.1 python-constraint-1.4.0 qiskit-0.34.1 qiskit-aer-0.10.2 qiskit-ibmq-provider-0.18.3 qiskit-ignis-0.7.0 qiskit-terra-0.19.1 requests-ntlm-1.1.0 retworkx-0.11.0 stevedore-3.5.0 tweedledum-1.1.1 websocket-client-1.2.3\n"
     ]
    }
   ],
   "source": [
    "pip install qiskit"
   ]
  },
  {
   "cell_type": "code",
   "execution_count": 2,
   "id": "9dfe1f01",
   "metadata": {},
   "outputs": [
    {
     "name": "stdout",
     "output_type": "stream",
     "text": [
      "Requirement already satisfied: numpy in c:\\users\\igorg\\anaconda3\\envs\\qcomp\\lib\\site-packages (1.20.3)\n",
      "Note: you may need to restart the kernel to use updated packages.\n"
     ]
    }
   ],
   "source": [
    "pip install numpy"
   ]
  },
  {
   "cell_type": "code",
   "execution_count": 3,
   "id": "2de812a8",
   "metadata": {},
   "outputs": [
    {
     "name": "stdout",
     "output_type": "stream",
     "text": [
      "Collecting pylatexenc\n",
      "  Using cached pylatexenc-2.10.tar.gz (162 kB)\n",
      "Building wheels for collected packages: pylatexenc\n",
      "  Building wheel for pylatexenc (setup.py): started\n",
      "  Building wheel for pylatexenc (setup.py): finished with status 'done'\n",
      "  Created wheel for pylatexenc: filename=pylatexenc-2.10-py3-none-any.whl size=136835 sha256=fb4d34512ab6b850c4fac50e9168bb17a6dbb43ea0900964d75ac3af9d9ff533\n",
      "  Stored in directory: c:\\users\\igorg\\appdata\\local\\pip\\cache\\wheels\\a3\\68\\66\\2f15abd0673d83c02f354115feedeb89c3daed2ac319b11090\n",
      "Successfully built pylatexenc\n",
      "Installing collected packages: pylatexenc\n",
      "Successfully installed pylatexenc-2.10\n",
      "Note: you may need to restart the kernel to use updated packages.\n"
     ]
    }
   ],
   "source": [
    "pip install pylatexenc"
   ]
  },
  {
   "cell_type": "code",
   "execution_count": 1,
   "id": "779c923e",
   "metadata": {},
   "outputs": [
    {
     "name": "stdout",
     "output_type": "stream",
     "text": [
      "Requirement already satisfied: sympy in c:\\users\\igorg\\anaconda3\\envs\\qcomp\\lib\\site-packages (1.9)\n",
      "Requirement already satisfied: mpmath>=0.19 in c:\\users\\igorg\\anaconda3\\envs\\qcomp\\lib\\site-packages (from sympy) (1.2.1)\n",
      "Note: you may need to restart the kernel to use updated packages.\n"
     ]
    }
   ],
   "source": [
    "pip install sympy"
   ]
  },
  {
   "cell_type": "code",
   "execution_count": null,
   "id": "0bc83ffa",
   "metadata": {},
   "outputs": [],
   "source": []
  }
 ],
 "metadata": {
  "kernelspec": {
   "display_name": "Python 3 (ipykernel)",
   "language": "python",
   "name": "python3"
  },
  "language_info": {
   "codemirror_mode": {
    "name": "ipython",
    "version": 3
   },
   "file_extension": ".py",
   "mimetype": "text/x-python",
   "name": "python",
   "nbconvert_exporter": "python",
   "pygments_lexer": "ipython3",
   "version": "3.9.7"
  }
 },
 "nbformat": 4,
 "nbformat_minor": 5
}
