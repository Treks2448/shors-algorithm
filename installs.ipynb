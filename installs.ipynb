{
 "cells": [
  {
   "cell_type": "code",
   "execution_count": 1,
   "id": "cf12cdd2",
   "metadata": {},
   "outputs": [
    {
     "name": "stdout",
     "output_type": "stream",
     "text": [
      "Collecting qiskit\n",
      "  Downloading qiskit-0.32.0.tar.gz (13 kB)\n",
      "Collecting qiskit-terra==0.18.3\n",
      "  Downloading qiskit_terra-0.18.3-cp39-cp39-manylinux2010_x86_64.whl (6.2 MB)\n",
      "\u001b[K     |████████████████████████████████| 6.2 MB 4.0 MB/s eta 0:00:01\n",
      "\u001b[?25hCollecting qiskit-aer==0.9.1\n",
      "  Downloading qiskit_aer-0.9.1-cp39-cp39-manylinux_2_12_x86_64.manylinux2010_x86_64.whl (17.9 MB)\n",
      "\u001b[K     |████████████████████████████████| 17.9 MB 12.2 MB/s eta 0:00:01    |███████▋                        | 4.3 MB 10.3 MB/s eta 0:00:02\n",
      "\u001b[?25hCollecting qiskit-ibmq-provider==0.18.0\n",
      "  Downloading qiskit_ibmq_provider-0.18.0-py3-none-any.whl (237 kB)\n",
      "\u001b[K     |████████████████████████████████| 237 kB 10.9 MB/s eta 0:00:01\n",
      "\u001b[?25hCollecting qiskit-ignis==0.6.0\n",
      "  Downloading qiskit_ignis-0.6.0-py3-none-any.whl (207 kB)\n",
      "\u001b[K     |████████████████████████████████| 207 kB 12.9 MB/s eta 0:00:01\n",
      "\u001b[?25hCollecting qiskit-aqua==0.9.5\n",
      "  Downloading qiskit_aqua-0.9.5-py3-none-any.whl (2.1 MB)\n",
      "\u001b[K     |████████████████████████████████| 2.1 MB 19.9 MB/s eta 0:00:01\n",
      "\u001b[?25hRequirement already satisfied: numpy>=1.16.3 in /home/igor/anaconda3/envs/qcomp/lib/python3.9/site-packages (from qiskit-aer==0.9.1->qiskit) (1.20.3)\n",
      "Requirement already satisfied: scipy>=1.0 in /home/igor/anaconda3/envs/qcomp/lib/python3.9/site-packages (from qiskit-aer==0.9.1->qiskit) (1.7.1)\n",
      "Requirement already satisfied: setuptools>=40.1.0 in /home/igor/anaconda3/envs/qcomp/lib/python3.9/site-packages (from qiskit-aqua==0.9.5->qiskit) (58.0.4)\n",
      "Requirement already satisfied: scikit-learn>=0.20.0 in /home/igor/anaconda3/envs/qcomp/lib/python3.9/site-packages (from qiskit-aqua==0.9.5->qiskit) (1.0.1)\n",
      "Collecting h5py<3.3.0\n",
      "  Downloading h5py-3.2.1-cp39-cp39-manylinux1_x86_64.whl (4.5 MB)\n",
      "\u001b[K     |████████████████████████████████| 4.5 MB 13.3 MB/s eta 0:00:01\n",
      "\u001b[?25hCollecting retworkx>=0.8.0\n",
      "  Downloading retworkx-0.10.2-cp39-cp39-manylinux_2_5_x86_64.manylinux1_x86_64.manylinux_2_12_x86_64.manylinux2010_x86_64.whl (1.4 MB)\n",
      "\u001b[K     |████████████████████████████████| 1.4 MB 9.5 MB/s eta 0:00:01\n",
      "\u001b[?25hCollecting fastdtw<=0.3.4\n",
      "  Downloading fastdtw-0.3.4.tar.gz (133 kB)\n",
      "\u001b[K     |████████████████████████████████| 133 kB 16.5 MB/s eta 0:00:01\n",
      "\u001b[?25hCollecting yfinance>=0.1.62\n",
      "  Downloading yfinance-0.1.66-py2.py3-none-any.whl (25 kB)\n",
      "Collecting quandl\n",
      "  Downloading Quandl-3.7.0-py2.py3-none-any.whl (26 kB)\n",
      "Collecting dlx<=1.0.4\n",
      "  Downloading dlx-1.0.4.tar.gz (5.5 kB)\n",
      "Requirement already satisfied: sympy>=1.3 in /home/igor/anaconda3/envs/qcomp/lib/python3.9/site-packages (from qiskit-aqua==0.9.5->qiskit) (1.9)\n",
      "Collecting docplex>=2.21.207\n",
      "  Downloading docplex-2.22.213.tar.gz (634 kB)\n",
      "\u001b[K     |████████████████████████████████| 634 kB 10.2 MB/s eta 0:00:01\n",
      "\u001b[?25hRequirement already satisfied: psutil>=5 in /home/igor/anaconda3/envs/qcomp/lib/python3.9/site-packages (from qiskit-aqua==0.9.5->qiskit) (5.8.0)\n",
      "Requirement already satisfied: pandas in /home/igor/anaconda3/envs/qcomp/lib/python3.9/site-packages (from qiskit-aqua==0.9.5->qiskit) (1.3.4)\n",
      "Collecting websocket-client>=1.0.1\n",
      "  Downloading websocket_client-1.2.1-py2.py3-none-any.whl (52 kB)\n",
      "\u001b[K     |████████████████████████████████| 52 kB 2.7 MB/s  eta 0:00:01\n",
      "\u001b[?25hRequirement already satisfied: urllib3>=1.21.1 in /home/igor/anaconda3/envs/qcomp/lib/python3.9/site-packages (from qiskit-ibmq-provider==0.18.0->qiskit) (1.26.7)\n",
      "Requirement already satisfied: python-dateutil>=2.8.0 in /home/igor/anaconda3/envs/qcomp/lib/python3.9/site-packages (from qiskit-ibmq-provider==0.18.0->qiskit) (2.8.2)\n",
      "Collecting requests-ntlm>=1.1.0\n",
      "  Downloading requests_ntlm-1.1.0-py2.py3-none-any.whl (5.7 kB)\n",
      "Requirement already satisfied: requests>=2.19 in /home/igor/anaconda3/envs/qcomp/lib/python3.9/site-packages (from qiskit-ibmq-provider==0.18.0->qiskit) (2.26.0)\n",
      "Collecting symengine>0.7\n",
      "  Downloading symengine-0.8.1-cp39-cp39-manylinux2010_x86_64.whl (38.3 MB)\n",
      "\u001b[K     |████████████████████████████████| 38.3 MB 4.1 MB/s eta 0:00:011\n",
      "\u001b[?25hCollecting tweedledum<2.0,>=1.1\n",
      "  Downloading tweedledum-1.1.1-cp39-cp39-manylinux_2_12_x86_64.manylinux2010_x86_64.whl (930 kB)\n",
      "\u001b[K     |████████████████████████████████| 930 kB 15.8 MB/s eta 0:00:01\n",
      "\u001b[?25hCollecting fastjsonschema>=2.10\n",
      "  Downloading fastjsonschema-2.15.1-py3-none-any.whl (21 kB)\n",
      "Requirement already satisfied: ply>=3.10 in /home/igor/anaconda3/envs/qcomp/lib/python3.9/site-packages (from qiskit-terra==0.18.3->qiskit) (3.11)\n",
      "Requirement already satisfied: jsonschema>=2.6 in /home/igor/anaconda3/envs/qcomp/lib/python3.9/site-packages (from qiskit-terra==0.18.3->qiskit) (3.2.0)\n",
      "Collecting dill>=0.3\n",
      "  Downloading dill-0.3.4-py2.py3-none-any.whl (86 kB)\n",
      "\u001b[K     |████████████████████████████████| 86 kB 7.6 MB/s  eta 0:00:01\n",
      "\u001b[?25hCollecting python-constraint>=1.4\n",
      "  Downloading python-constraint-1.4.0.tar.bz2 (18 kB)\n",
      "Requirement already satisfied: six in /home/igor/anaconda3/envs/qcomp/lib/python3.9/site-packages (from docplex>=2.21.207->qiskit-aqua==0.9.5->qiskit) (1.16.0)\n",
      "Requirement already satisfied: pyrsistent>=0.14.0 in /home/igor/anaconda3/envs/qcomp/lib/python3.9/site-packages (from jsonschema>=2.6->qiskit-terra==0.18.3->qiskit) (0.18.0)\n",
      "Requirement already satisfied: attrs>=17.4.0 in /home/igor/anaconda3/envs/qcomp/lib/python3.9/site-packages (from jsonschema>=2.6->qiskit-terra==0.18.3->qiskit) (21.2.0)\n",
      "Requirement already satisfied: idna<4,>=2.5 in /home/igor/anaconda3/envs/qcomp/lib/python3.9/site-packages (from requests>=2.19->qiskit-ibmq-provider==0.18.0->qiskit) (3.2)\n",
      "Requirement already satisfied: charset-normalizer~=2.0.0 in /home/igor/anaconda3/envs/qcomp/lib/python3.9/site-packages (from requests>=2.19->qiskit-ibmq-provider==0.18.0->qiskit) (2.0.4)\n",
      "Requirement already satisfied: certifi>=2017.4.17 in /home/igor/anaconda3/envs/qcomp/lib/python3.9/site-packages (from requests>=2.19->qiskit-ibmq-provider==0.18.0->qiskit) (2021.10.8)\n",
      "Requirement already satisfied: cryptography>=1.3 in /home/igor/anaconda3/envs/qcomp/lib/python3.9/site-packages (from requests-ntlm>=1.1.0->qiskit-ibmq-provider==0.18.0->qiskit) (35.0.0)\n",
      "Collecting ntlm-auth>=1.0.2\n",
      "  Downloading ntlm_auth-1.5.0-py2.py3-none-any.whl (29 kB)\n",
      "Requirement already satisfied: cffi>=1.12 in /home/igor/anaconda3/envs/qcomp/lib/python3.9/site-packages (from cryptography>=1.3->requests-ntlm>=1.1.0->qiskit-ibmq-provider==0.18.0->qiskit) (1.14.6)\n",
      "Requirement already satisfied: pycparser in /home/igor/anaconda3/envs/qcomp/lib/python3.9/site-packages (from cffi>=1.12->cryptography>=1.3->requests-ntlm>=1.1.0->qiskit-ibmq-provider==0.18.0->qiskit) (2.21)\n",
      "Requirement already satisfied: threadpoolctl>=2.0.0 in /home/igor/anaconda3/envs/qcomp/lib/python3.9/site-packages (from scikit-learn>=0.20.0->qiskit-aqua==0.9.5->qiskit) (2.2.0)\n",
      "Requirement already satisfied: joblib>=0.11 in /home/igor/anaconda3/envs/qcomp/lib/python3.9/site-packages (from scikit-learn>=0.20.0->qiskit-aqua==0.9.5->qiskit) (1.1.0)\n",
      "Requirement already satisfied: mpmath>=0.19 in /home/igor/anaconda3/envs/qcomp/lib/python3.9/site-packages (from sympy>=1.3->qiskit-aqua==0.9.5->qiskit) (1.2.1)\n",
      "Collecting multitasking>=0.0.7\n",
      "  Downloading multitasking-0.0.10.tar.gz (8.2 kB)\n",
      "Requirement already satisfied: lxml>=4.5.1 in /home/igor/anaconda3/envs/qcomp/lib/python3.9/site-packages (from yfinance>=0.1.62->qiskit-aqua==0.9.5->qiskit) (4.6.3)\n",
      "Requirement already satisfied: pytz>=2017.3 in /home/igor/anaconda3/envs/qcomp/lib/python3.9/site-packages (from pandas->qiskit-aqua==0.9.5->qiskit) (2021.3)\n",
      "Requirement already satisfied: more-itertools in /home/igor/anaconda3/envs/qcomp/lib/python3.9/site-packages (from quandl->qiskit-aqua==0.9.5->qiskit) (8.10.0)\n",
      "Requirement already satisfied: inflection>=0.3.1 in /home/igor/anaconda3/envs/qcomp/lib/python3.9/site-packages (from quandl->qiskit-aqua==0.9.5->qiskit) (0.5.1)\n",
      "Building wheels for collected packages: qiskit, dlx, docplex, fastdtw, python-constraint, multitasking\n",
      "  Building wheel for qiskit (setup.py) ... \u001b[?25ldone\n",
      "\u001b[?25h  Created wheel for qiskit: filename=qiskit-0.32.0-py3-none-any.whl size=11773 sha256=502ec5483b7cd7ebadf7239188bb1a919a751e0d0c0eea06e2a29e60f8faeb00\n",
      "  Stored in directory: /home/igor/.cache/pip/wheels/70/77/9e/5d0c93ad0f4c5b60474ec5b2fafe848eaef5e35d2ee8aae742\n"
     ]
    },
    {
     "name": "stdout",
     "output_type": "stream",
     "text": [
      "  Building wheel for dlx (setup.py) ... \u001b[?25ldone\n",
      "\u001b[?25h  Created wheel for dlx: filename=dlx-1.0.4-py3-none-any.whl size=5719 sha256=441214b658957d5c077ea6464e778eaa5c861cf92a26f08fa999f481641a90b0\n",
      "  Stored in directory: /home/igor/.cache/pip/wheels/81/bd/ba/2896ffc1856e28914fcbf4d0ded1bfbb5924dad98c80ba2d5c\n",
      "  Building wheel for docplex (setup.py) ... \u001b[?25ldone\n",
      "\u001b[?25h  Created wheel for docplex: filename=docplex-2.22.213-py3-none-any.whl size=696881 sha256=a0d1617bf4e82ba07bd19379edeaa18628130a319082edf21310f5b21f6040c7\n",
      "  Stored in directory: /home/igor/.cache/pip/wheels/a6/54/b8/97d38dd12a97871952801b9c24480bf0701ab5034ea816d80b\n",
      "  Building wheel for fastdtw (setup.py) ... \u001b[?25ldone\n",
      "\u001b[?25h  Created wheel for fastdtw: filename=fastdtw-0.3.4-cp39-cp39-linux_x86_64.whl size=114945 sha256=0dc9095424d29031dd0224f738c3b25c564cd044580b4d86669a2d12ad39c465\n",
      "  Stored in directory: /home/igor/.cache/pip/wheels/1f/a1/63/bfd0fddb5bf0b59f564872e29272cee8a2de0cd745d88fede5\n",
      "  Building wheel for python-constraint (setup.py) ... \u001b[?25ldone\n",
      "\u001b[?25h  Created wheel for python-constraint: filename=python_constraint-1.4.0-py2.py3-none-any.whl size=24081 sha256=ddf51c335cdeda16d93ae1e09e3f9938f5608a1e87b5009beba1bbc4e14595a3\n",
      "  Stored in directory: /home/igor/.cache/pip/wheels/51/36/1f/c2ccb8dc4eba38c5215636d4ae2c480b32069cab0376bcc1a4\n",
      "  Building wheel for multitasking (setup.py) ... \u001b[?25ldone\n",
      "\u001b[?25h  Created wheel for multitasking: filename=multitasking-0.0.10-py3-none-any.whl size=8500 sha256=b3d9bb7bcea366731597e98a1378cd9b5159d8d54f2c7a90bcc60bea0a8deccf\n",
      "  Stored in directory: /home/igor/.cache/pip/wheels/f2/b5/2c/59ba95dcf854e542944c75fe3da584e4e3833b319735a0546c\n",
      "Successfully built qiskit dlx docplex fastdtw python-constraint multitasking\n",
      "Installing collected packages: tweedledum, symengine, retworkx, python-constraint, fastjsonschema, dill, qiskit-terra, ntlm-auth, multitasking, yfinance, websocket-client, requests-ntlm, quandl, qiskit-ignis, h5py, fastdtw, docplex, dlx, qiskit-ibmq-provider, qiskit-aqua, qiskit-aer, qiskit\n",
      "  Attempting uninstall: h5py\n",
      "    Found existing installation: h5py 3.6.0\n",
      "    Uninstalling h5py-3.6.0:\n",
      "      Successfully uninstalled h5py-3.6.0\n",
      "Successfully installed dill-0.3.4 dlx-1.0.4 docplex-2.22.213 fastdtw-0.3.4 fastjsonschema-2.15.1 h5py-3.2.1 multitasking-0.0.10 ntlm-auth-1.5.0 python-constraint-1.4.0 qiskit-0.32.0 qiskit-aer-0.9.1 qiskit-aqua-0.9.5 qiskit-ibmq-provider-0.18.0 qiskit-ignis-0.6.0 qiskit-terra-0.18.3 quandl-3.7.0 requests-ntlm-1.1.0 retworkx-0.10.2 symengine-0.8.1 tweedledum-1.1.1 websocket-client-1.2.1 yfinance-0.1.66\n",
      "Note: you may need to restart the kernel to use updated packages.\n"
     ]
    }
   ],
   "source": [
    "pip install qiskit"
   ]
  },
  {
   "cell_type": "code",
   "execution_count": 2,
   "id": "9dfe1f01",
   "metadata": {},
   "outputs": [
    {
     "name": "stdout",
     "output_type": "stream",
     "text": [
      "Requirement already satisfied: numpy in /home/igor/anaconda3/envs/qcomp/lib/python3.9/site-packages (1.20.3)\n",
      "Note: you may need to restart the kernel to use updated packages.\n"
     ]
    }
   ],
   "source": [
    "pip install numpy"
   ]
  },
  {
   "cell_type": "code",
   "execution_count": 1,
   "id": "2de812a8",
   "metadata": {},
   "outputs": [
    {
     "name": "stdout",
     "output_type": "stream",
     "text": [
      "Collecting pylatexenc\n",
      "  Downloading pylatexenc-2.10.tar.gz (162 kB)\n",
      "\u001b[K     |████████████████████████████████| 162 kB 2.7 MB/s eta 0:00:01\n",
      "\u001b[?25hBuilding wheels for collected packages: pylatexenc\n",
      "  Building wheel for pylatexenc (setup.py) ... \u001b[?25ldone\n",
      "\u001b[?25h  Created wheel for pylatexenc: filename=pylatexenc-2.10-py3-none-any.whl size=136833 sha256=ab878b01f91f24f07d05d68c5fc902b9996563cdf9ba1632107652120be7eaa5\n",
      "  Stored in directory: /home/igor/.cache/pip/wheels/a3/68/66/2f15abd0673d83c02f354115feedeb89c3daed2ac319b11090\n",
      "Successfully built pylatexenc\n",
      "Installing collected packages: pylatexenc\n",
      "Successfully installed pylatexenc-2.10\n",
      "Note: you may need to restart the kernel to use updated packages.\n"
     ]
    }
   ],
   "source": [
    "pip install pylatexenc"
   ]
  },
  {
   "cell_type": "code",
   "execution_count": null,
   "id": "779c923e",
   "metadata": {},
   "outputs": [],
   "source": []
  }
 ],
 "metadata": {
  "kernelspec": {
   "display_name": "Python 3 (ipykernel)",
   "language": "python",
   "name": "python3"
  },
  "language_info": {
   "codemirror_mode": {
    "name": "ipython",
    "version": 3
   },
   "file_extension": ".py",
   "mimetype": "text/x-python",
   "name": "python",
   "nbconvert_exporter": "python",
   "pygments_lexer": "ipython3",
   "version": "3.9.7"
  }
 },
 "nbformat": 4,
 "nbformat_minor": 5
}
